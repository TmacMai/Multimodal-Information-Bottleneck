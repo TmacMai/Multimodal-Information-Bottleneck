{
 "metadata": {
  "language_info": {
   "codemirror_mode": {
    "name": "ipython",
    "version": 3
   },
   "file_extension": ".py",
   "mimetype": "text/x-python",
   "name": "python",
   "nbconvert_exporter": "python",
   "pygments_lexer": "ipython3",
   "version": "3.7.4-final"
  },
  "orig_nbformat": 2,
  "kernelspec": {
   "name": "python3",
   "display_name": "Python 3"
  }
 },
 "nbformat": 4,
 "nbformat_minor": 2,
 "cells": [
  {
   "cell_type": "code",
   "execution_count": 1,
   "metadata": {},
   "outputs": [],
   "source": [
    "import pickle as pkl\n",
    "import numpy as np\n",
    "from tqdm import tqdm\n",
    "import ipywidgets as widgets\n",
    "from ipywidgets import interact, interact_manual\n",
    "\n",
    "with open(\"./datasets/mosi.pkl\", 'rb') as f:\n",
    "    mosi = pkl.load(f)\n",
    "\n",
    "with open(\"./datasets/mosei.pkl\", 'rb') as f:\n",
    "    mosei = pkl.load(f)"
   ]
  },
  {
   "cell_type": "code",
   "execution_count": 2,
   "metadata": {},
   "outputs": [
    {
     "output_type": "display_data",
     "data": {
      "text/plain": "interactive(children=(Dropdown(description='idx', options=(0, 1, 2, 3, 4, 5, 6, 7, 8, 9, 10, 11, 12, 13, 14, 1…",
      "application/vnd.jupyter.widget-view+json": {
       "version_major": 2,
       "version_minor": 0,
       "model_id": "4b0dda3311194c24bdf2b56b223c4b2d"
      }
     },
     "metadata": {}
    }
   ],
   "source": [
    "test_mosi = mosi['test']\n",
    "test_mosei = mosei['test']\n",
    "\n",
    "@interact\n",
    "def get_mosi_sample(idx = range(len(test_mosi))):\n",
    "    (words, visual, acoustic), label, segment =  mosi['test'][idx]\n",
    "    print(\"WORDS\", words)\n",
    "    print(\"VISUAL\", visual.shape)\n",
    "    print(\"ACOUSTIC\", acoustic.shape)\n",
    "    print(\"LABEL\", label)\n",
    "    print(\"SEGMENT\", segment)"
   ]
  },
  {
   "cell_type": "code",
   "execution_count": 3,
   "metadata": {},
   "outputs": [
    {
     "output_type": "display_data",
     "data": {
      "text/plain": "interactive(children=(Dropdown(description='idx', options=(0, 1, 2, 3, 4, 5, 6, 7, 8, 9, 10, 11, 12, 13, 14, 1…",
      "application/vnd.jupyter.widget-view+json": {
       "version_major": 2,
       "version_minor": 0,
       "model_id": "f39f75372f3c4f1b8953c28aad01f16a"
      }
     },
     "metadata": {}
    }
   ],
   "source": [
    "@interact\n",
    "def get_mosi_sample(idx = range(len(test_mosei))):\n",
    "    (words, visual, acoustic), label, segment =  mosei['test'][idx]\n",
    "    print(\"WORDS\", words)\n",
    "    print(\"VISUAL\", visual.shape)\n",
    "    print(\"ACOUSTIC\", acoustic.shape)\n",
    "    print(\"LABEL\", label)\n",
    "    print(\"SEGMENT\", segment)"
   ]
  },
  {
   "cell_type": "code",
   "execution_count": 4,
   "metadata": {},
   "outputs": [
    {
     "output_type": "stream",
     "name": "stderr",
     "text": [
      "100%|██████████| 1281/1281 [00:00<00:00, 607932.05it/s]\n",
      "100%|██████████| 229/229 [00:00<00:00, 453491.79it/s]\n",
      "100%|██████████| 685/685 [00:00<00:00, 623366.94it/s]\n",
      "100%|██████████| 16265/16265 [00:00<00:00, 898570.28it/s]\n",
      "100%|██████████| 1869/1869 [00:00<00:00, 772330.46it/s]\n",
      "100%|██████████| 4643/4643 [00:00<00:00, 878321.91it/s]\n"
     ]
    }
   ],
   "source": [
    "def validate(data, VISUAL_DIM:int, ACOUSTIC_DIM:int):\n",
    "    for partition in [\"train\", \"dev\", \"test\"]:\n",
    "        for feature in tqdm(data[partition]):\n",
    "            (words, visual, acoustic), label, segment = feature\n",
    "            assert len(words) == len(visual) == len(acoustic), f\"Modality Alignment failure at {segment}\"\n",
    "            assert visual.shape == (len(words), VISUAL_DIM), f\"Visual dimension mismatch at {segment}\"\n",
    "            assert acoustic.shape == (len(words), ACOUSTIC_DIM), f\"Acoustic dimension mismatch at {segment}\"\n",
    "\n",
    "validate(mosi, 47, 74)\n",
    "validate(mosei, 35, 74)"
   ]
  },
  {
   "cell_type": "code",
   "execution_count": null,
   "metadata": {},
   "outputs": [],
   "source": []
  }
 ]
}